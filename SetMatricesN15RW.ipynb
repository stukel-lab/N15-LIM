{
 "cells": [
  {
   "cell_type": "markdown",
   "metadata": {},
   "source": [
    "# N15 LIM Setup\n",
    "\n",
    "This file reads in the input excel files and gets them ready to be run in the LIM."
   ]
  },
  {
   "cell_type": "code",
   "execution_count": 49,
   "metadata": {
    "collapsed": true
   },
   "outputs": [],
   "source": [
    "# The code communicates with an open excel spreadsheet containing the A,b,G,\n",
    "# and h matrices for Ax=b & Gx>h.  The new version also allows the option of \n",
    "# creating an additional set of matrices Cx~d.  (In this case, the matrices\n",
    "# A, b, C, d will be named Ae, be, Aa, ba, respectively).\n",
    "library(openxlsx)\n",
    "\n",
    "model = 'DIAZO.Coastal'\n",
    "\n",
    "# first, get the name of spreadsheet with data\n",
    "input.dir = 'Demo/'\n",
    "model.file = 'N15InverseModelRW'\n",
    "sheet.name = 'N15'\n",
    "rskip = 4\n",
    "cskip = 4\n",
    "\n",
    "\n",
    "## Helper function to convert data.frames and others into matrixes.\n",
    "to.matrix = function(x) {\n",
    "    m = matrix(as.numeric(unlist(x)), nrow=nrow(x))\n",
    "    m[is.na(m)] = 0  ## NB: may be dangerous if row and col numbers of inaccurate (no signs of failure)\n",
    "    m\n",
    "}"
   ]
  },
  {
   "cell_type": "code",
   "execution_count": 50,
   "metadata": {
    "collapsed": true
   },
   "outputs": [],
   "source": [
    "## Read in the excel file (model)\n",
    "sheet = read.xlsx(paste0(input.dir, model.file, '.xlsx'), sheet = sheet.name)"
   ]
  },
  {
   "cell_type": "code",
   "execution_count": 51,
   "metadata": {
    "collapsed": true
   },
   "outputs": [],
   "source": [
    "## Now start reading in the data, starting with sizes\n",
    "datsize = as.numeric(sheet[1,1:4])\n",
    "neeq = datsize[1]   #Number of exact equalities\n",
    "naeq = datsize[2]   #Number of approximate equalities\n",
    "ngt0 = datsize[3]   #Number of inequalities\n",
    "nvar = datsize[4]   #Number of variables (flows)\n",
    "\n",
    "ngt = ngt0 + nvar   # total no. ineqs, including >0\n",
    "neq = neeq + naeq      # total number of equalities\n",
    "\n",
    "\n",
    "## Determine spreadsheet bounds \n",
    "ccl = cskip + 1\t# upper left number to be read\n",
    "crl = rskip + 1\n",
    "crr = rskip + nvar + 1\n",
    "ccr = cskip + neq + ngt0 + 2\n",
    "crr2 = rskip + nvar + 2\n",
    "\n",
    "## Master sheet\n",
    "M0 = sheet[c(crl:crr), c(ccl:ccr)]"
   ]
  },
  {
   "cell_type": "markdown",
   "metadata": {},
   "source": [
    "---\n",
    "## Parse input & Forward Model\n",
    "This section deals with organizing and setting up the matricies to be run by the inverse model."
   ]
  },
  {
   "cell_type": "code",
   "execution_count": 67,
   "metadata": {},
   "outputs": [
    {
     "name": "stderr",
     "output_type": "stream",
     "text": [
      "Warning message in matrix(as.numeric(unlist(x)), nrow = nrow(x)):\n",
      "\"NAs introduced by coercion\""
     ]
    }
   ],
   "source": [
    "## now, sort out\n",
    "## do some minimal prcocessing\n",
    "weight = M0[1:nvar, 1]\n",
    "M = cbind(M0[, 2:(neq+ngt0+1)], diag(nvar+1))\n",
    "\n",
    "\n",
    "#### Set 'A' matrix\n",
    "\n",
    "# A.wt = diag(1 / weight)\n",
    "# A.raw = to.matrix(M[1:nvar, 1:neq])\n",
    "# A = A.raw %*% A.wt    ## NB: These steps may have to be varified before use\n",
    "A = to.matrix(M[1:nvar, 1:neq])\n",
    "\n",
    "Ae = A[, 1:neeq] # exact\n",
    "Aa = A[, (neeq+1):(neeq+naeq)] # approx\n",
    "\n",
    "#### Setup 'G' matrix\n",
    "\n",
    "# G.raw = to.matrix(M[1:nvar, (neq+1):(neq+ngt)]) %*% A.wt\n",
    "# G = G.raw    ## NB: These steps may have to be varified before use\n",
    "G = M[1:nvar, (neq+1):(neq+ngt)]\n",
    "G = to.matrix(G)"
   ]
  },
  {
   "cell_type": "code",
   "execution_count": 68,
   "metadata": {},
   "outputs": [
    {
     "data": {
      "text/html": [
       "<table>\n",
       "<thead><tr><th scope=col>Quantity</th><th scope=col>Units</th><th scope=col>DIAZO.(Coastal)</th></tr></thead>\n",
       "<tbody>\n",
       "\t<tr><td>1) C14PP                             </td><td>mg C m-3 d-1                         </td><td>5.7575863374095801                   </td></tr>\n",
       "\t<tr><td>2) New Production Nitrate Uptake     </td><td>mmol N m-3 d-1                       </td><td>7.2168199939859901E-2                </td></tr>\n",
       "\t<tr><td>3) mu                                </td><td>d-1                                  </td><td>0.17568736782635999                  </td></tr>\n",
       "\t<tr><td>4) Protozoan Grazing                 </td><td>mmol N m-3 d-1                       </td><td>7.3220304687112006E-2                </td></tr>\n",
       "\t<tr><td>5) Mesozoo Grazing                   </td><td>mmol N m-3 d-1                       </td><td>0.108884606221558                    </td></tr>\n",
       "\t<tr><td>6) Export                            </td><td>mmol N m-2 d-1                       </td><td>0.42028216566130699                  </td></tr>\n",
       "\t<tr><td>7) d15N-Export                       </td><td>NA                                   </td><td>5.6720092714887604                   </td></tr>\n",
       "\t<tr><td>8) d15N-NO3-input                    </td><td>NA                                   </td><td>7.7000000000000099                   </td></tr>\n",
       "\t<tr><td>9) d15N-Mesozoo                      </td><td>NA                                   </td><td>7.7881476723204903                   </td></tr>\n",
       "\t<tr><td>10) Protozoan Biomass                </td><td>mmol N m-3                           </td><td>0.16303619166493299                  </td></tr>\n",
       "\t<tr><td>11) Mesozooplankton Biomass          </td><td>mmol N m-3                           </td><td>0.63759949788717996                  </td></tr>\n",
       "\t<tr><td>12) Cyanobacteria Biomass (Cya + UMD)</td><td>mmol N m-3                           </td><td>0.15503900256474401                  </td></tr>\n",
       "\t<tr><td>13) Diatom Biomass (Dtm + DDA)       </td><td>mmol N m-3                           </td><td>0.257184542866987                    </td></tr>\n",
       "\t<tr><td>14) Temp                             </td><td>NA                                   </td><td>28                                   </td></tr>\n",
       "\t<tr><td>15) Layer Thickness                  </td><td>m                                    </td><td>10                                   </td></tr>\n",
       "\t<tr><td>16) nppPSn                           </td><td>mmol N m-3 d-1                       </td><td>4.7710391708353603E-2                </td></tr>\n",
       "\t<tr><td>17) nppPLn                           </td><td>mmol N m-3 d-1                       </td><td>0.16880824963456501                  </td></tr>\n",
       "\t<tr><td>18) NH4                              </td><td>mmol N m-3                           </td><td>NaN                                  </td></tr>\n",
       "\t<tr><td>19) NO3                              </td><td>mmol N m-3                           </td><td>2.8564376632464898                   </td></tr>\n",
       "\t<tr><td>20) DON                              </td><td>mmol N m-3                           </td><td>3.46717532785997                     </td></tr>\n",
       "\t<tr><td>21) PON                              </td><td>mmol N m-3                           </td><td>1.2176120198806199E-2                </td></tr>\n",
       "\t<tr><td>22) d15N-DOC                         </td><td>NA                                   </td><td>5.8920274617757302                   </td></tr>\n",
       "\t<tr><td>23) d15N-NO3-euphotic                </td><td>NA                                   </td><td>9.8943528127578606                   </td></tr>\n",
       "</tbody>\n",
       "</table>\n"
      ],
      "text/latex": [
       "\\begin{tabular}{r|lll}\n",
       " Quantity & Units & DIAZO.(Coastal)\\\\\n",
       "\\hline\n",
       "\t 1) C14PP                              & mg C m-3 d-1                          & 5.7575863374095801                   \\\\\n",
       "\t 2) New Production Nitrate Uptake      & mmol N m-3 d-1                        & 7.2168199939859901E-2                \\\\\n",
       "\t 3) mu                                 & d-1                                   & 0.17568736782635999                  \\\\\n",
       "\t 4) Protozoan Grazing                  & mmol N m-3 d-1                        & 7.3220304687112006E-2                \\\\\n",
       "\t 5) Mesozoo Grazing                    & mmol N m-3 d-1                        & 0.108884606221558                    \\\\\n",
       "\t 6) Export                             & mmol N m-2 d-1                        & 0.42028216566130699                  \\\\\n",
       "\t 7) d15N-Export                        & NA                                    & 5.6720092714887604                   \\\\\n",
       "\t 8) d15N-NO3-input                     & NA                                    & 7.7000000000000099                   \\\\\n",
       "\t 9) d15N-Mesozoo                       & NA                                    & 7.7881476723204903                   \\\\\n",
       "\t 10) Protozoan Biomass                 & mmol N m-3                            & 0.16303619166493299                  \\\\\n",
       "\t 11) Mesozooplankton Biomass           & mmol N m-3                            & 0.63759949788717996                  \\\\\n",
       "\t 12) Cyanobacteria Biomass (Cya + UMD) & mmol N m-3                            & 0.15503900256474401                  \\\\\n",
       "\t 13) Diatom Biomass (Dtm + DDA)        & mmol N m-3                            & 0.257184542866987                    \\\\\n",
       "\t 14) Temp                              & NA                                    & 28                                   \\\\\n",
       "\t 15) Layer Thickness                   & m                                     & 10                                   \\\\\n",
       "\t 16) nppPSn                            & mmol N m-3 d-1                        & 4.7710391708353603E-2                \\\\\n",
       "\t 17) nppPLn                            & mmol N m-3 d-1                        & 0.16880824963456501                  \\\\\n",
       "\t 18) NH4                               & mmol N m-3                            & NaN                                  \\\\\n",
       "\t 19) NO3                               & mmol N m-3                            & 2.8564376632464898                   \\\\\n",
       "\t 20) DON                               & mmol N m-3                            & 3.46717532785997                     \\\\\n",
       "\t 21) PON                               & mmol N m-3                            & 1.2176120198806199E-2                \\\\\n",
       "\t 22) d15N-DOC                          & NA                                    & 5.8920274617757302                   \\\\\n",
       "\t 23) d15N-NO3-euphotic                 & NA                                    & 9.8943528127578606                   \\\\\n",
       "\\end{tabular}\n"
      ],
      "text/markdown": [
       "\n",
       "Quantity | Units | DIAZO.(Coastal) | \n",
       "|---|---|---|---|---|---|---|---|---|---|---|---|---|---|---|---|---|---|---|---|---|---|---|\n",
       "| 1) C14PP                              | mg C m-3 d-1                          | 5.7575863374095801                    | \n",
       "| 2) New Production Nitrate Uptake      | mmol N m-3 d-1                        | 7.2168199939859901E-2                 | \n",
       "| 3) mu                                 | d-1                                   | 0.17568736782635999                   | \n",
       "| 4) Protozoan Grazing                  | mmol N m-3 d-1                        | 7.3220304687112006E-2                 | \n",
       "| 5) Mesozoo Grazing                    | mmol N m-3 d-1                        | 0.108884606221558                     | \n",
       "| 6) Export                             | mmol N m-2 d-1                        | 0.42028216566130699                   | \n",
       "| 7) d15N-Export                        | NA                                    | 5.6720092714887604                    | \n",
       "| 8) d15N-NO3-input                     | NA                                    | 7.7000000000000099                    | \n",
       "| 9) d15N-Mesozoo                       | NA                                    | 7.7881476723204903                    | \n",
       "| 10) Protozoan Biomass                 | mmol N m-3                            | 0.16303619166493299                   | \n",
       "| 11) Mesozooplankton Biomass           | mmol N m-3                            | 0.63759949788717996                   | \n",
       "| 12) Cyanobacteria Biomass (Cya + UMD) | mmol N m-3                            | 0.15503900256474401                   | \n",
       "| 13) Diatom Biomass (Dtm + DDA)        | mmol N m-3                            | 0.257184542866987                     | \n",
       "| 14) Temp                              | NA                                    | 28                                    | \n",
       "| 15) Layer Thickness                   | m                                     | 10                                    | \n",
       "| 16) nppPSn                            | mmol N m-3 d-1                        | 4.7710391708353603E-2                 | \n",
       "| 17) nppPLn                            | mmol N m-3 d-1                        | 0.16880824963456501                   | \n",
       "| 18) NH4                               | mmol N m-3                            | NaN                                   | \n",
       "| 19) NO3                               | mmol N m-3                            | 2.8564376632464898                    | \n",
       "| 20) DON                               | mmol N m-3                            | 3.46717532785997                      | \n",
       "| 21) PON                               | mmol N m-3                            | 1.2176120198806199E-2                 | \n",
       "| 22) d15N-DOC                          | NA                                    | 5.8920274617757302                    | \n",
       "| 23) d15N-NO3-euphotic                 | NA                                    | 9.8943528127578606                    | \n",
       "\n",
       "\n"
      ],
      "text/plain": [
       "   Quantity                              Units          DIAZO.(Coastal)      \n",
       "1  1) C14PP                              mg C m-3 d-1   5.7575863374095801   \n",
       "2  2) New Production Nitrate Uptake      mmol N m-3 d-1 7.2168199939859901E-2\n",
       "3  3) mu                                 d-1            0.17568736782635999  \n",
       "4  4) Protozoan Grazing                  mmol N m-3 d-1 7.3220304687112006E-2\n",
       "5  5) Mesozoo Grazing                    mmol N m-3 d-1 0.108884606221558    \n",
       "6  6) Export                             mmol N m-2 d-1 0.42028216566130699  \n",
       "7  7) d15N-Export                        NA             5.6720092714887604   \n",
       "8  8) d15N-NO3-input                     NA             7.7000000000000099   \n",
       "9  9) d15N-Mesozoo                       NA             7.7881476723204903   \n",
       "10 10) Protozoan Biomass                 mmol N m-3     0.16303619166493299  \n",
       "11 11) Mesozooplankton Biomass           mmol N m-3     0.63759949788717996  \n",
       "12 12) Cyanobacteria Biomass (Cya + UMD) mmol N m-3     0.15503900256474401  \n",
       "13 13) Diatom Biomass (Dtm + DDA)        mmol N m-3     0.257184542866987    \n",
       "14 14) Temp                              NA             28                   \n",
       "15 15) Layer Thickness                   m              10                   \n",
       "16 16) nppPSn                            mmol N m-3 d-1 4.7710391708353603E-2\n",
       "17 17) nppPLn                            mmol N m-3 d-1 0.16880824963456501  \n",
       "18 18) NH4                               mmol N m-3     NaN                  \n",
       "19 19) NO3                               mmol N m-3     2.8564376632464898   \n",
       "20 20) DON                               mmol N m-3     3.46717532785997     \n",
       "21 21) PON                               mmol N m-3     1.2176120198806199E-2\n",
       "22 22) d15N-DOC                          NA             5.8920274617757302   \n",
       "23 23) d15N-NO3-euphotic                 NA             9.8943528127578606   "
      ]
     },
     "metadata": {},
     "output_type": "display_data"
    }
   ],
   "source": [
    "Inputs = read.xlsx(paste0(input.dir, 'Inputs.xlsx'))\n",
    "Inputs"
   ]
  },
  {
   "cell_type": "code",
   "execution_count": 69,
   "metadata": {
    "collapsed": true
   },
   "outputs": [],
   "source": [
    "## Each Model is a different col.\n",
    "if (model == 'DIAZO.Coastal') {\n",
    "    Inputs = Inputs[,3]\n",
    "}\n",
    "if (model == 'DIAZO.Mesohaline') {\n",
    "    Inputs = Inputs[,4]\n",
    "}\n",
    "if (model == 'NEMURO.Coastal') {\n",
    "    Inputs = Inputs[,5]\n",
    "}\n",
    "if (model == 'NEMURO.Offshore') {\n",
    "    Inputs = Inputs[,6]\n",
    "}\n",
    "if (model == 'Base') {\n",
    "    Inputs = Inputs[,7]\n",
    "}\n",
    "\n",
    "#### Setup 'b' vectors ####\n",
    "\n",
    "b = to.matrix(M[nvar+1, 1:neq])\n",
    "\n",
    "b.end = length(b)\n",
    "b[b.end] = as.numeric(Inputs[6])      # SinkingFlux\n",
    "b[b.end - 1] = as.numeric(Inputs[3])  # New Production (Nitrate uptake - Nitrification)\n",
    "b[b.end - 2] = as.numeric(Inputs[5])  # Mesozoo Grazing\n",
    "b[b.end - 3] = as.numeric(Inputs[1])  # NPP\n",
    "\n",
    "## Set ba & be from b\n",
    "be = b[1:neeq]\n",
    "ba = b[(neeq+1):(neeq+naeq)]\n",
    "\n",
    "\n",
    "#### Setup 'h' vector ####\n",
    "\n",
    "h = to.matrix(M[nvar+1, (neq+1):(neq+ngt)])\n",
    "\n",
    "temp = as.numeric(Inputs[14])\n",
    "\n",
    "Weight = 7.5;\n",
    "h[3] = -1.7 * Weight^-0.25 * exp(0.0693 * (temp-20)) * as.numeric(Inputs[10])   #Protistan Max Respiration\n",
    "\n",
    "Weight = 3800000\n",
    "h[5] = -14 * Weight^-0.25 * exp(0.0693 * (temp-20)) * as.numeric(Inputs[11])    #Mesozoo Max Respiration\n",
    "h[6] = 0.02 * as.numeric(Inputs[13])                                 #Diatom Min Excretion\n",
    "h[7] = -0.55 * as.numeric(Inputs[13])                                #Diatom Max Excretion\n",
    "h[8] = 0.02 * as.numeric(Inputs[12])                                 #Cyano Min Excretion\n",
    "h[9] = -0.55 * as.numeric(Inputs[12])                                #Cyano Max Excretion\n",
    "h[16] = -3.6 * Weight^-0.25 * exp(0.0693 * (temp-20)) * as.numeric(Inputs[11])  #Mesozoo Max Ingestion\n",
    "\n",
    "## Setup fractionation parameters\n",
    "RN2 = 0.0036765\n",
    "Eps_TL = 3.5\n",
    "R_TL = Eps_TL / 1000 * RN2 + RN2"
   ]
  },
  {
   "cell_type": "code",
   "execution_count": 70,
   "metadata": {
    "collapsed": true
   },
   "outputs": [],
   "source": [
    "## Determine flows for N15 calculations\n",
    "\n",
    "ToNO3 = 1\n",
    "FromNH4 = c(4, 11)\n",
    "ToCya = c(9, 10, 11)\n",
    "ToDTM = c(2, 3, 4)\n",
    "ToHNF = c(12, 28)\n",
    "ToMIC = c(5, 13, 16, 29)\n",
    "ToMES = c(6, 17, 22, 30, 35)\n",
    "FromDet = c(28:31)\n",
    "FromDON = 32"
   ]
  },
  {
   "cell_type": "code",
   "execution_count": 71,
   "metadata": {
    "collapsed": true
   },
   "outputs": [],
   "source": [
    "#### Setup sdba vector ####\n",
    "\n",
    "sdba = ba / 10  ## Default to 10% uncertainty\n",
    "sdba[1:9] = (R_TL - RN2) / 10  ## 10% uncertainty on N15 equations\n",
    "sdba[10] = as.numeric(Inputs[2]) * (R_TL - RN2) / 10  ## d15NExportNPBalance\n",
    "\n",
    "\n",
    "## Load N15 flow data from previous model to establish approximate equations\n",
    "if (file.exists(paste0('N15InverseModel.', model, '.ROutputs.rdata'))) {\n",
    "    \n",
    "    load(paste0('N15InverseModel.', model, '.ROutputs.rdata')) ## MCMCmatplain is loaded\n",
    "    \n",
    "    tmp = apply(MCMCmatplain, 2, median)\n",
    "    \n",
    "    sdba[1] = sum(tmp[ToNO3]) * (R_TL - RN2) / 10   # d15NNO3\n",
    "    sdba[2] = sum(tmp[FromNH4]) * (R_TL - RN2) / 10   # d15NNH4\n",
    "    sdba[3] = sum(tmp[ToCya]) * (R_TL - RN2) / 10   # d15NCya\n",
    "    sdba[4] = sum(tmp[ToDTM]) * (R_TL - RN2) / 10   # d15NDtm\n",
    "    sdba[5] = sum(tmp[ToHNF]) * (R_TL - RN2) / 10   # d15NHNF\n",
    "    sdba[6] = sum(tmp[ToMIC]) * (R_TL - RN2) / 10   # d15NMic\n",
    "    sdba[7] = sum(tmp[ToMES]) * (R_TL - RN2) / 10   # d15NMes\n",
    "    sdba[8] = sum(tmp[FromDet]) * (R_TL - RN2) / 10   # d15NDet\n",
    "    sdba[9] = sum(tmp[FromDON]) * (R_TL - RN2) / 10   # d15NDON\n",
    "    sdba[10] = sum(tmp[ToNO3]) * (R_TL - RN2) / 10  # d15NExportNPBalance\n",
    "    sdbainputs = 1\n",
    "}\n",
    "\n",
    "\n"
   ]
  },
  {
   "cell_type": "markdown",
   "metadata": {},
   "source": [
    "---\n",
    "# Save"
   ]
  },
  {
   "cell_type": "code",
   "execution_count": 74,
   "metadata": {
    "collapsed": true
   },
   "outputs": [],
   "source": [
    "#### Save output\n",
    "\n",
    "if (length(ba) > 0) {\n",
    "    output = list(A=A, Ae=Ae, Aa=Aa, G=G, b=b, be=be, ba=ba, h=h, Inputs=Inputs, sdba=sdba)\n",
    "    \n",
    "} else {\n",
    "    output = list(A=A, G=G, b=b, h=h)\n",
    "}\n",
    "save(file = paste0('Demo/', model.file, '.', model, '.RW.rdata'), output)"
   ]
  },
  {
   "cell_type": "markdown",
   "metadata": {},
   "source": [
    "---\n",
    "### Moving Forward\n",
    "Done, from here the model (the __output__ list above) can be loaded by the main model script and used to run the four LIM models."
   ]
  }
 ],
 "metadata": {
  "kernelspec": {
   "display_name": "R",
   "language": "R",
   "name": "ir"
  },
  "language_info": {
   "codemirror_mode": "r",
   "file_extension": ".r",
   "mimetype": "text/x-r-source",
   "name": "R",
   "pygments_lexer": "r",
   "version": "3.4.1"
  }
 },
 "nbformat": 4,
 "nbformat_minor": 2
}
