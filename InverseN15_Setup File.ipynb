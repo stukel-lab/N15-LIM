{
 "cells": [
  {
   "cell_type": "markdown",
   "metadata": {},
   "source": [
    "# N15 LIM Setup\n",
    "\n",
    "This file reads in the input excel files and gets them ready to be run in the LIM."
   ]
  },
  {
   "cell_type": "code",
   "execution_count": 1,
   "metadata": {
    "collapsed": true
   },
   "outputs": [],
   "source": [
    "# The code communicates with an open excel spreadsheet containing the A,b,G,\n",
    "# and h matrices for Ax=b & Gx>h.  The new version also allows the option of \n",
    "# creating an additional set of matrices Cx~d.  (In this case, the matrices\n",
    "# A, b, C, d will be named Ae, be, Aa, ba, respectively).  Note that this must \n",
    "# be an excel 1997-2003 spreadsheet (not a .xlsx).\n",
    "library(openxlsx)\n",
    "\n",
    "model = 'DIAZO.Mesohaline'\n",
    "\n",
    "# first, get the name of spreadsheet with data\n",
    "model.file = 'N15InverseModelRW'\n",
    "sheet.name = 'N15'\n",
    "rskip = 5\n",
    "cskip = 4\n",
    "\n",
    "\n",
    "## Helper function to convert data.frames and others into matrixes.\n",
    "to.matrix = function(x) {\n",
    "    m = matrix(as.numeric(unlist(x)), nrow=nrow(x))\n",
    "    m[is.na(m)] = 0  ## NB: may be dangerous if row and col numbers of inaccurate (no signs of failure)\n",
    "    m\n",
    "}"
   ]
  },
  {
   "cell_type": "code",
   "execution_count": 5,
   "metadata": {},
   "outputs": [
    {
     "data": {
      "text/html": [
       "<table>\n",
       "<thead><tr><th scope=col>ExactEq</th><th scope=col>ApproxEq</th><th scope=col>Ineq</th><th scope=col>Flows</th></tr></thead>\n",
       "<tbody>\n",
       "\t<tr><td>9 </td><td>15</td><td>27</td><td>35</td></tr>\n",
       "</tbody>\n",
       "</table>\n"
      ],
      "text/latex": [
       "\\begin{tabular}{r|llll}\n",
       " ExactEq & ApproxEq & Ineq & Flows\\\\\n",
       "\\hline\n",
       "\t 9  & 15 & 27 & 35\\\\\n",
       "\\end{tabular}\n"
      ],
      "text/markdown": [
       "\n",
       "ExactEq | ApproxEq | Ineq | Flows | \n",
       "|---|\n",
       "| 9  | 15 | 27 | 35 | \n",
       "\n",
       "\n"
      ],
      "text/plain": [
       "  ExactEq ApproxEq Ineq Flows\n",
       "1 9       15       27   35   "
      ]
     },
     "metadata": {},
     "output_type": "display_data"
    }
   ],
   "source": [
    "## Read in the excel file (model)\n",
    "sheet = read.xlsx(paste0(model.file,'.xlsx'), sheet = sheet.name)\n",
    "sheet[1,1:4]"
   ]
  },
  {
   "cell_type": "code",
   "execution_count": 106,
   "metadata": {},
   "outputs": [],
   "source": [
    "## Now start reading in the data, starting with sizes\n",
    "datsize = as.numeric(sheet[1,1:4])\n",
    "neeq = datsize[1]   #Number of exact equalities\n",
    "naeq = datsize[2]   #Number of approximate equalities\n",
    "ngt0 = datsize[3]   #Number of inequalities\n",
    "nvar = datsize[4]   #Number of variables (flows)\n",
    "\n",
    "ngt = ngt0 + nvar   # total no. ineqs, including >0\n",
    "neq = neeq + naeq      # total number of equalities\n",
    "\n",
    "## Determine spreadsheet bounds \n",
    "ccl = cskip + 1\t# upper left number to be read\n",
    "crl = rskip + 1\n",
    "crr = rskip + nvar + 1\n",
    "ccr = cskip + neq + ngt0 + 2\n",
    "crr2 = rskip + nvar + 2\n",
    "\n",
    "## Master sheet\n",
    "M0 = sheet[c(crl:crr), c(ccl:ccr)]"
   ]
  },
  {
   "cell_type": "code",
   "execution_count": 97,
   "metadata": {},
   "outputs": [
    {
     "name": "stderr",
     "output_type": "stream",
     "text": [
      "Warning message in matrix(as.numeric(unlist(x)), nrow = nrow(x)):\n",
      "\"NAs introduced by coercion\""
     ]
    }
   ],
   "source": [
    "## now, sort out\n",
    "## do some minimal prcocessing\n",
    "weight = M0[1:nvar, 1]\n",
    "M = cbind(M0[, 2:(neq+ngt0+1)], diag(nvar+1))\n",
    "\n",
    "\n",
    "#### Set 'A' matrix\n",
    "\n",
    "# A.wt = diag(1 / weight)\n",
    "# A.raw = to.matrix(M[1:nvar, 1:neq])\n",
    "# A = A.raw %*% A.wt    ## NB: These steps may have to be varified before use\n",
    "A = to.matrix( M[1:nvar, 1:neq] )\n",
    "\n",
    "Ae = A[1:neeq, ] # exact\n",
    "Aa = A[(neeq+1):(neeq+naeq),] # approx\n",
    "\n",
    "#### Setup 'G' matrix\n",
    "\n",
    "# G.raw = to.matrix(M[1:nvar, (neq+1):(neq+ngt)]) %*% A.wt\n",
    "# G = G.raw    ## NB: These steps may have to be varified before use\n",
    "G = M[1:nvar, (neq+1):(neq+ngt)]\n",
    "G = to.matrix(G)"
   ]
  },
  {
   "cell_type": "code",
   "execution_count": null,
   "metadata": {},
   "outputs": [],
   "source": []
  },
  {
   "cell_type": "code",
   "execution_count": 100,
   "metadata": {},
   "outputs": [],
   "source": [
    "Inputs = read.xlsx('Inputs.xlsx', 'Sheet1')\n",
    "Inputs = to.matrix(Inputs[4:26, 10:16])\n",
    "          \n",
    "if (model == 'DIAZO.Coastal') {\n",
    "    col = 1\n",
    "}\n",
    "if (model == 'DIAZO.Mesohaline') {\n",
    "    col = 2\n",
    "}\n",
    "if (model == 'NEMURO.Coastal') {\n",
    "    col = 3\n",
    "}\n",
    "if (model == 'NEMURO.Offshore') {\n",
    "    col = 4\n",
    "}\n",
    "if (model == 'Base') {\n",
    "    col = 5\n",
    "}\n",
    "\n",
    "#### Setup 'b' vectors ####\n",
    "\n",
    "b = to.matrix(M[nvar+1, 1:neq])\n",
    "\n",
    "b.end = length(b)\n",
    "b[b.end] = as.numeric(Inputs[6,col])    # SinkingFlux\n",
    "b[b.end - 1] = as.numeric(Inputs[2,col])  # New Production (Nitrate uptake - Nitrification)\n",
    "b[b.end - 2] = as.numeric(Inputs[5,col])  # Mesozoo Grazing\n",
    "b[b.end - 3] = as.numeric(Inputs[16,col]) + as.numeric(Inputs[17,col]) # NPP\n",
    "\n",
    "## Set ba & be from b\n",
    "be = b[1:neeq]\n",
    "ba = b[(neeq+1):(neeq+naeq)]\n",
    "\n",
    "\n",
    "#### Setup 'h' vector ####\n",
    "\n",
    "h = to.matrix(M[nvar+1, (neq+1):(neq+ngt)])\n",
    "\n",
    "temp = as.numeric(Inputs[14, col])\n",
    "\n",
    "Weight = 7.5;\n",
    "h[3] = -1.7 * Weight^-0.25 * exp(0.0693 * (temp-20)) * as.numeric(Inputs[10, col])   #Protistan Max Respiration\n",
    "\n",
    "Weight = 3800000\n",
    "h[5] = -14 * Weight^-0.25 * exp(0.0693 * (temp-20)) * as.numeric(Inputs[11, col])    #Mesozoo Max Respiration\n",
    "h[6] = 0.02 * as.numeric(Inputs[13, col])                                 #Diatom Min Excretion\n",
    "h[7] = -0.55 * as.numeric(Inputs[13, col])                                #Diatom Max Excretion\n",
    "h[8] = 0.02 * as.numeric(Inputs[12, col])                                 #Cyano Min Excretion\n",
    "h[9] = -0.55 * as.numeric(Inputs[12, col])                                #Cyano Max Excretion\n",
    "h[16] = -3.6 * Weight^-0.25 * exp(0.0693 * (temp-20)) * as.numeric(Inputs[11, col])  #Mesozoo Max Ingestion\n",
    "\n",
    "\n",
    "RN2 = 0.0036765\n",
    "Eps_TL = 3.5\n",
    "R_TL = Eps_TL / 1000 * RN2 + RN2"
   ]
  },
  {
   "cell_type": "code",
   "execution_count": 102,
   "metadata": {},
   "outputs": [
    {
     "data": {
      "text/html": [
       "<ol class=list-inline>\n",
       "\t<li>0</li>\n",
       "\t<li>0</li>\n",
       "\t<li>0</li>\n",
       "\t<li>0</li>\n",
       "\t<li>0</li>\n",
       "\t<li>0</li>\n",
       "\t<li>0</li>\n",
       "\t<li>0</li>\n",
       "\t<li>0</li>\n",
       "\t<li>0</li>\n",
       "\t<li>0</li>\n",
       "\t<li>0.45380221602286</li>\n",
       "\t<li>0.0966917901369502</li>\n",
       "\t<li>-0.0930901221499554</li>\n",
       "\t<li>2.13678602827822</li>\n",
       "</ol>\n"
      ],
      "text/latex": [
       "\\begin{enumerate*}\n",
       "\\item 0\n",
       "\\item 0\n",
       "\\item 0\n",
       "\\item 0\n",
       "\\item 0\n",
       "\\item 0\n",
       "\\item 0\n",
       "\\item 0\n",
       "\\item 0\n",
       "\\item 0\n",
       "\\item 0\n",
       "\\item 0.45380221602286\n",
       "\\item 0.0966917901369502\n",
       "\\item -0.0930901221499554\n",
       "\\item 2.13678602827822\n",
       "\\end{enumerate*}\n"
      ],
      "text/markdown": [
       "1. 0\n",
       "2. 0\n",
       "3. 0\n",
       "4. 0\n",
       "5. 0\n",
       "6. 0\n",
       "7. 0\n",
       "8. 0\n",
       "9. 0\n",
       "10. 0\n",
       "11. 0\n",
       "12. 0.45380221602286\n",
       "13. 0.0966917901369502\n",
       "14. -0.0930901221499554\n",
       "15. 2.13678602827822\n",
       "\n",
       "\n"
      ],
      "text/plain": [
       " [1]  0.00000000  0.00000000  0.00000000  0.00000000  0.00000000  0.00000000\n",
       " [7]  0.00000000  0.00000000  0.00000000  0.00000000  0.00000000  0.45380222\n",
       "[13]  0.09669179 -0.09309012  2.13678603"
      ]
     },
     "metadata": {},
     "output_type": "display_data"
    }
   ],
   "source": [
    "## Determine flows for N15 calculations\n",
    "\n",
    "ToNO3 = 1\n",
    "FromNH4 = c(4, 11)\n",
    "ToCya = c(9, 10, 11)\n",
    "ToDTM = c(2, 3, 4)\n",
    "ToHNF = c(12, 28)\n",
    "ToMIC = c(5, 13, 16, 29)\n",
    "ToMES = c(6, 17, 22, 30, 35)\n",
    "FromDet = c(28:31)\n",
    "FromDON = 32"
   ]
  },
  {
   "cell_type": "code",
   "execution_count": 103,
   "metadata": {},
   "outputs": [],
   "source": [
    "#### Setuo sdba vector ####\n",
    "\n",
    "sdba = ba / 10  ## Default to 10% uncertainty\n",
    "sdba[1:9] = (R_TL - RN2) / 10  ## 10% uncertainty on N15 equations\n",
    "sdba[10] = as.numeric(Inputs[2,col]) * (R_TL - RN2) / 10  ## d15NExportNPBalance\n",
    "\n",
    "\n",
    "## Load N15 flow data from previous model to establish approximate equations\n",
    "if (file.exists(paste0('N15InverseModel.', model, '.ROutputs.rdata'))) {\n",
    "    \n",
    "    load(paste0('N15InverseModel.', model, '.ROutputs.rdata'), 'MCMCmatplain')\n",
    "    \n",
    "    tmp = median(MCMCmatplain)\n",
    "    sdba(1) = sum(tmp[ToNO3]) * (R_TL - RN2) / 10   # d15NNO3\n",
    "    sdba(2) = sum(tmp[FromNH4]) * (R_TL - RN2) / 10   # d15NNH4\n",
    "    sdba(3) = sum(tmp[ToCya]) * (R_TL - RN2) / 10   # d15NCya\n",
    "    sdba(4) = sum(tmp[ToDTM]) * (R_TL - RN2) / 10   # d15NDtm\n",
    "    sdba(5) = sum(tmp[ToHNF]) * (R_TL - RN2) / 10   # d15NHNF\n",
    "    sdba(6) = sum(tmp[ToMIC]) * (R_TL - RN2) / 10   # d15NMic\n",
    "    sdba(7) = sum(tmp[ToMES]) * (R_TL - RN2) / 10   # d15NMes\n",
    "    sdba(8) = sum(tmp[FromDet]) * (R_TL - RN2) / 10   # d15NDet\n",
    "    sdba(9) = sum(tmp[FromDON]) * (R_TL - RN2) / 10   # d15NDON\n",
    "    sdba(10) = sum(tmp[ToNO3]) * (R_TL - RN2) / 10  # d15NExportNPBalance\n",
    "    sdbainputs = 1\n",
    "}\n",
    "\n",
    "\n"
   ]
  },
  {
   "cell_type": "code",
   "execution_count": 105,
   "metadata": {},
   "outputs": [],
   "source": [
    "#### Save output\n",
    "\n",
    "if (length(ba) > 0) {\n",
    "    output = list(A=A, Ae=Ae, Aa=Aa, G=G, b=b, be=be, ba=ba, h=h, Inputs=Inputs, sdba=sdba, InputCol=col)\n",
    "    \n",
    "} else {\n",
    "    output = list(A=A, G=G, b=b, h=h)\n",
    "}\n",
    "save(file = paste0(model.file, '.', model, '.RW.rdata'), output)"
   ]
  }
 ],
 "metadata": {
  "kernelspec": {
   "display_name": "R",
   "language": "R",
   "name": "ir"
  },
  "language_info": {
   "codemirror_mode": "r",
   "file_extension": ".r",
   "mimetype": "text/x-r-source",
   "name": "R",
   "pygments_lexer": "r",
   "version": "3.4.1"
  }
 },
 "nbformat": 4,
 "nbformat_minor": 2
}
