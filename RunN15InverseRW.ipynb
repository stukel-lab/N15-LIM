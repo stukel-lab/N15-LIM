{
 "cells": [
  {
   "cell_type": "markdown",
   "metadata": {},
   "source": [
    "# RunN15InverseRW\n",
    "\n",
    "### Structure of this file\n",
    "\n",
    "0. Load libraries and source scripts\n",
    "1. Read model input (the matricies and vectors)\n",
    "2. Setup run-time conditions and L2MN solution\n",
    "3. Iterative burn-in for MCMC\n",
    "4. MCMC Model Run\n",
    "5. Save Output\n",
    "---\n",
    "\n",
    "## 0. Load Libraries"
   ]
  },
  {
   "cell_type": "code",
   "execution_count": null,
   "metadata": {
    "collapsed": true
   },
   "outputs": [],
   "source": [
    "#Note that first you have to set the directory: Session > Set Working Directory\n",
    "rm(list=ls())  # Housekeeping\n",
    "\n",
    "## Load libraries \n",
    "library(R.matlab)  # Used to read in/out matlab binary files\n",
    "library(openxlsx)  # Used to read xlsx files\n",
    "library(limSolve)  # The original LIM Package\n",
    "library(MASS)      # Matrix library\n",
    "\n",
    "source('xsampleN15.r')  # The N15 xsample algorithm \n",
    "source('ExternalFunctions.r')  # The place for ancillary functions"
   ]
  },
  {
   "cell_type": "markdown",
   "metadata": {},
   "source": [
    "---\n",
    "# Read Input\n",
    "This section will read in the data saved by the setup script ___InverseN15_Setup File___. To do this, there are two versions, one for __Matlab__ and one for __R__. Both are offered for ease of adaptation for non-R lab groups.\n",
    "\n",
    "The __Matlab__ based section is below (first) with the __R__ baed on below it. Only one section should be run!\n",
    "\n",
    "For reference, the variables saved (cut-paste from setup script) are:\n",
    "\n",
    "`# output = list(A=A, Ae=Ae, Aa=Aa, G=G, b=b, be=be, ba=ba, h=h, Inputs=Inputs, sdba=sdba, InputCol=col)`"
   ]
  },
  {
   "cell_type": "code",
   "execution_count": null,
   "metadata": {
    "collapsed": true
   },
   "outputs": [],
   "source": [
    "###############################\n",
    "#### 1. Read in input data ####\n",
    "###############################\n",
    "\n",
    "Model <- 'NEMURO.Offshore'  # Select which model\n",
    "\n",
    "datafile <- paste('N15InverseModelRW.',Model,'.RW.mat',sep=\"\") ## Based on the matlab setup script\n",
    "data <- readMat(datafile, fixNames=TRUE)\n",
    "\n",
    "## Set Vairables\n",
    "h <- data[['h']]\n",
    "b <- data[['b']]\n",
    "ba <- data[['ba']]\n",
    "be <- data[['be']]\n",
    "Ae <- data[['Ae']]\n",
    "Aa <- data[['Aa']]\n",
    "G <- data[['G']]\n",
    "sdba <- data[['sdba']]\n",
    "InputCol <- data[['InputCol']]\n",
    "A <- data[['A']]\n",
    "Inputs <- data[['Inputs']]"
   ]
  },
  {
   "cell_type": "code",
   "execution_count": null,
   "metadata": {
    "collapsed": true
   },
   "outputs": [],
   "source": [
    "###############################\n",
    "#### 1. Read in input data ####\n",
    "###############################\n",
    "\n",
    "Model <- 'NEMURO.Offshore'  # Select which model\n",
    "\n",
    "load(paste0('N15InverseModelRW.', Model, '.RW.rdata')) ## Loads \"output\" from the setup script\n",
    "\n",
    "## Set Variables\n",
    "h <- output[['h']]\n",
    "b <- output[['b']]\n",
    "ba <- output[['ba']]\n",
    "be <- output[['be']]\n",
    "Ae <- output[['Ae']]\n",
    "Aa <- output[['Aa']]\n",
    "G <- output[['G']]\n",
    "sdba <- output[['sdba']]\n",
    "InputCol <- output[['InputCol']]\n",
    "A <- output[['A']]\n",
    "Inputs <- output[['Inputs']]"
   ]
  },
  {
   "cell_type": "markdown",
   "metadata": {},
   "source": [
    "---\n",
    "# 2. Run-time setup\n",
    "Here we setup how we want the model to be run:\n",
    "\n",
    "* __KeeperRatio__: Number of solutions to be saved.\n",
    "* __IterLength__: The total number of steps to be taken\n",
    "\n",
    "After that, the model sets the jump length--the standard deviation of the random distribution used to pick a new solution--before running the L2MN at the end."
   ]
  },
  {
   "cell_type": "code",
   "execution_count": null,
   "metadata": {
    "collapsed": true
   },
   "outputs": [],
   "source": [
    "###############################\n",
    "#### 2. Set run parameters ####\n",
    "###############################\n",
    "\n",
    "KeeperRatio <- 10000\n",
    "IterLength <- 1e7\n",
    "OutputLength <- IterLength / KeeperRatio\n",
    "BurninLength <- IterLength / 100\n",
    "\n",
    "## Set based on which forward model\n",
    "if (Model == \"DIAZO.Coastal\"){\n",
    "  jmpLength <- 0.02\n",
    "}else if (Model == \"DIAZO.Mesohaline\") {\n",
    "  jmpLength <- 0.005\n",
    "}else if (Model == \"NEMURO.Coastal\") {\n",
    "  jmpLength <- 0.001\n",
    "}else if (Model == \"NEMURO.Offshore\") {\n",
    "  jmpLength <- 0.0001\n",
    "}\n",
    "jmpLength15 <- 0.02\n",
    "\n",
    "## Cut to isolate non-15N equations (11 -> 15 here)\n",
    "Aa2 <- Aa[11:14,]\n",
    "ba2 <- ba[11:14]\n",
    "sdba2 <- sdba[11:14]\n",
    "d15N0 <- c(0, 0, 0, 0, 0, 0)\n",
    "\n",
    "## Read N15 values from forward model\n",
    "upNO315N <- Inputs[8, InputCol]\n",
    "Mes15N <- Inputs[9, InputCol]\n",
    "Det15N <- Inputs[7, InputCol]\n",
    "Doc15N <- Inputs[22, InputCol]\n",
    "del15Nknown <- c(upNO315N, Mes15N, Doc15N, Det15N)"
   ]
  },
  {
   "cell_type": "markdown",
   "metadata": {},
   "source": [
    "__L2MN Solution section:__"
   ]
  },
  {
   "cell_type": "code",
   "execution_count": null,
   "metadata": {
    "collapsed": true
   },
   "outputs": [],
   "source": [
    "## L2MN Solution (without N15)\n",
    "# Start\n",
    "test <- lsei(A = Aa2, B = ba2, E = Ae, F = be, G = G, H = h, type=2) # No N15 here\n",
    "X <- test[['X']]\n",
    "solNorm <- test[['solutionNorm']]\n",
    "lseisol <- as.matrix(X)\n",
    "rm(test, X)  # Housekeeping\n",
    "\n",
    "\n",
    "#Central Value Solution\n",
    "center <- xranges(E = Ae, F = be, G = G, H = h,\n",
    "                  ispos = FALSE, tol = 1e-8, central = TRUE, full=FALSE)\n",
    "centralval <- center[,3]"
   ]
  },
  {
   "cell_type": "markdown",
   "metadata": {},
   "source": [
    "---\n",
    "# 3. MCMC Runs for N15 Setup\n",
    "These first two burn-ins allow us to move away from the L2MN solution before running the MCMC (w/o N15). From there,  the mean MCMC solution is a \"good\" starting point to initalize the N15 equations (which are based on flow values).\n",
    "\n",
    "__NB This will take a long time:__"
   ]
  },
  {
   "cell_type": "code",
   "execution_count": null,
   "metadata": {
    "collapsed": true
   },
   "outputs": [],
   "source": [
    "##############################################################\n",
    "#### 3a. Iterative burn-in in order to establish matricies ####\n",
    "##############################################################\n",
    "## First burnin\n",
    "test2 <- xsample(A = Aa2, B = ba2, E = Ae, F = be, G = G,\n",
    "                 H = h, sdB = sdba2*10, iter = BurninLength/2,\n",
    "\t\t\t\t type=\"mirror\", jmp=runif(1, 0, 1)*jmpLength/5,\n",
    "\t\t\t\t x0 = centralval, fulloutput='TRUE')\n",
    "\t\t\t\t \n",
    "Burninmat <- test2[['X']]\n",
    "Startpt <- Burninmat[BurninLength/2,]\n",
    "rm(Burninmat)  # Housekeeping\n",
    "\n",
    "## Second burnin\n",
    "test2 <- xsample(A = Aa2, B = ba2, E = Ae, F = be, G = G,\n",
    "                 H = h, sdB = sdba2, iter = BurninLength/2, type=\"mirror\",\n",
    "\t\t\t\t jmp=jmpLength+runif(1, 0, 1)*jmpLength/5, x0 = Startpt,\n",
    "\t\t\t\t fulloutput='TRUE')\n",
    "\t\t\t\t \n",
    "Burninmat <- test2[['X']]\n",
    "Startpt <- Burninmat[BurninLength/2,]\n",
    "rm(Burninmat)  # Housekeeping"
   ]
  },
  {
   "cell_type": "markdown",
   "metadata": {},
   "source": [
    "### MCMC Run without N15\n",
    "__This will take a long time:__"
   ]
  },
  {
   "cell_type": "code",
   "execution_count": null,
   "metadata": {
    "collapsed": true
   },
   "outputs": [],
   "source": [
    "############################################\n",
    "#### 3b. Run the full model without N15 ####\n",
    "############################################\n",
    "\n",
    "test2 <- xsample(A = Aa2, B = ba2, E = Ae, F = be, G = G,\n",
    "                 H = h, sdB = sdba2, iter = IterLength, outputlength = OutputLength,\n",
    "\t\t\t\t type=\"mirror\", jmp=jmpLength+runif(1, 0, 1)*jmpLength/5, x0 = Startpt,\n",
    "\t\t\t\t fulloutput='TRUE')\n",
    "\n",
    "MCMCmatplain <- test2[['X']]"
   ]
  },
  {
   "cell_type": "markdown",
   "metadata": {},
   "source": [
    "---\n",
    "# 4. MCMC Run with N15\n",
    "With the regular MCMC finished, we can use the mean solution to initalize the N15+MCMC burn-ins."
   ]
  },
  {
   "cell_type": "code",
   "execution_count": null,
   "metadata": {
    "collapsed": true
   },
   "outputs": [],
   "source": [
    "##############################\n",
    "#### 4. N15 model section ####\n",
    "##############################\n",
    "\n",
    "# Use full model solution to initialize the N15 matricies \n",
    "MCMCmatmean <- colMeans(MCMCmatplain)\n",
    "RN2 <- 0.0036765;\n",
    "Eps_Remin <- -1\n",
    "Eps_Eg <- -2\n",
    "Eps_NH4up <- -10\n",
    "Alpha_NH4up <- exp(Eps_NH4up / 1000)\n",
    "Alpha_Eg <- exp(Eps_Eg / 1000)\n",
    "Alpha_Remin <- exp(Eps_Remin / 1000)\n",
    "sdbafactor <- (RN2 * Alpha_Remin - RN2)/10\n",
    "\n",
    "sdba[1] <- sum(MCMCmatmean[c(1,3,10)]) * sdbafactor\n",
    "sdba[2] <- sum(MCMCmatmean[c(4,11,18,21,25,32)]) * sdbafactor\n",
    "sdba[3] <- sum(MCMCmatmean[c(2,3,4,5,6,7,8)]) * sdbafactor\n",
    "sdba[4] <- sum(MCMCmatmean[c(9,10,11,12,13,14,15)]) * sdbafactor\n",
    "sdba[5] <- sum(MCMCmatmean[c(12,16,17,18,19,20,28)]) * sdbafactor\n",
    "sdba[6] <- sum(MCMCmatmean[c(5,13,16,21,22,23,24,29)]) * sdbafactor\n",
    "sdba[7] <- sum(MCMCmatmean[c(6,17,22,25,26,27,30,34)]) * sdbafactor\n",
    "sdba[8] <- sum(MCMCmatmean[c(7,14,19,23,26,28,29,30,31,33)]) * sdbafactor\n",
    "sdba[9] <- sum(MCMCmatmean[c(8,15,20,24,27,31,32)]) * sdbafactor\n",
    "sdba[10] <- sum(MCMCmatmean[c(1,2,9,33,34)]) * sdbafactor"
   ]
  },
  {
   "cell_type": "markdown",
   "metadata": {},
   "source": [
    "__This next section will take a while:__"
   ]
  },
  {
   "cell_type": "code",
   "execution_count": null,
   "metadata": {
    "collapsed": true
   },
   "outputs": [],
   "source": [
    "## Burnin - N15 (iterative process)\n",
    "test2 <- xsampleN15(A = Aa, B = ba, E = Ae, F = be, G = G,\n",
    "                    H = h, sdB = sdba*10, iter = BurninLength/2,\n",
    "                    type=\"mirror\", jmp=runif(1, 0, 1)*jmpLength/5,\n",
    "                    jmp2=jmpLength15/5, x0 = centralval, del15N1=d15N0,\n",
    "                    del15Nknown=del15Nknown, fulloutput='TRUE'\n",
    "                   )\n",
    "\n",
    "Burninmat <- test2[['X']]\n",
    "del15Ntemp <- test2[['del15Ntrack']]\n",
    "d15N0 <- del15Ntemp[BurninLength/2, ]\n",
    "Startpt <- Burninmat[BurninLength/2, ]\n",
    "rm(del15Ntemp, Burninmat)  # Housekeeping\n",
    "\n",
    "\n",
    "## Second Burnin - N15\n",
    "test2 <- xsampleN15(\n",
    "    A = Aa, B = ba, E = Ae, F = be, G = G,\n",
    "                    H = h, sdB = sdba, iter = BurninLength/2,\n",
    "                    type=\"mirror\", jmp=runif(1, 0, 1)*jmpLength/5,\n",
    "                    jmp2=jmpLength15/5, x0 = Startpt, del15N1=d15N0,\n",
    "                    del15Nknown=del15Nknown, fulloutput='TRUE'\n",
    "                   )\n",
    "\n",
    "Burninmat <- test2[['X']]\n",
    "del15Ntemp <- test2[['del15Ntrack']]\n",
    "d15N0 <- del15Ntemp[BurninLength/2, ]\n",
    "Startpt <- Burninmat[BurninLength/2, ]\n",
    "rm(del15Ntemp, Burninmat)\n"
   ]
  },
  {
   "cell_type": "markdown",
   "metadata": {},
   "source": [
    "---\n",
    "# 5. MCMC Model Run\n",
    "Now that the MCMC is burned in, here is the full run (__This will take a very long time, ~2x longer than above__):"
   ]
  },
  {
   "cell_type": "code",
   "execution_count": null,
   "metadata": {
    "collapsed": true
   },
   "outputs": [],
   "source": [
    "################################\n",
    "#### 5. Full model Run #########\n",
    "################################\n",
    "\n",
    "test2 <- xsampleN15(\n",
    "    A = Aa, B = ba, E = Ae, F = be, G = G,\n",
    "                    H = h, sdB = sdba, iter = IterLength, outputlength = OutputLength,\n",
    "                    type=\"mirror\", jmp=jmpLength+runif(1, 0, 1)*jmpLength/5,\n",
    "                    jmp2=jmpLength15, x0 = Startpt, del15N1=d15N0, del15Nknown=del15Nknown,\n",
    "                    fulloutput='TRUE'\n",
    "                   )\n",
    "\n",
    "MCMCmatN15 <- test2[['X']]\n",
    "del15N <- test2[['del15Ntrack']]\n",
    "randomnumber <- test2[['randomnumber']]\n",
    "acceptedratio <- test2[['acceptedratio']]"
   ]
  },
  {
   "cell_type": "markdown",
   "metadata": {},
   "source": [
    "---\n",
    "# Save Output\n",
    "The format of the output is largely up to your needs. Here we save the model and the resulting solution in both _R_ and _Matlab_ formats but the type and variables are up to you (xlsx, csv, zip, etc)."
   ]
  },
  {
   "cell_type": "code",
   "execution_count": null,
   "metadata": {
    "collapsed": true
   },
   "outputs": [],
   "source": [
    "##############################\n",
    "#### 6. Save the output ######\n",
    "##############################\n",
    "\n",
    "fileout.mat <- paste0('N15InverseModel.', Model, '.ROutputs.mat')\n",
    "fileout.r <- paste0('N15InverseModel.', Model, '.ROutputs.rdata')\n",
    "\n",
    "save(file = fileout.r,\n",
    "     list(\n",
    "         MCMCmatN15 = MCMCmatN15,\n",
    "          MCMCmatplain = MCMCmatplain,\n",
    "          del15N = del15N,\n",
    "          Aa = Aa,\n",
    "          ba = ba,\n",
    "          Ae = Ae,\n",
    "          be = be,\n",
    "          G = G,\n",
    "          h = h,\n",
    "          sdba = sdba,\n",
    "          lseisol = lseisol,\n",
    "          Inputs = Inputs,\n",
    "          InputCol = InputCol,\n",
    "          jmpLength = jmpLength,\n",
    "          jmpLength15 = jmpLength15,\n",
    "          acceptedratio = acceptedratio,\n",
    "          Startpt = Startpt,\n",
    "          centralval = centralval,\n",
    "          KeeperRatio = KeeperRatio,\n",
    "          Aa2 = Aa2,\n",
    "          ba2 = ba2,\n",
    "          sdba2 = sdba2\n",
    "         )\n",
    "    )\n",
    " \n",
    "writeMat(fileout.mat,\n",
    "         MCMCmatN15 = MCMCmatN15,\n",
    "         MCMCmatplain = MCMCmatplain,\n",
    "         del15N = del15N,\n",
    "         Aa = Aa,\n",
    "         ba = ba,\n",
    "         Ae = Ae,\n",
    "         be = be,\n",
    "         G = G,\n",
    "         h = h,\n",
    "         sdba = sdba,\n",
    "         lseisol = lseisol,\n",
    "         Inputs = Inputs,\n",
    "         InputCol = InputCol,\n",
    "         jmpLength = jmpLength,\n",
    "         jmpLength15 = jmpLength15,\n",
    "         acceptedratio = acceptedratio,\n",
    "         Startpt = Startpt,\n",
    "         centralval = centralval,\n",
    "         KeeperRatio = KeeperRatio,\n",
    "         Aa2 = Aa2,\n",
    "         ba2 = ba2,\n",
    "         sdba2 = sdba2\n",
    "        )"
   ]
  }
 ],
 "metadata": {
  "kernelspec": {
   "display_name": "R",
   "language": "R",
   "name": "ir"
  },
  "language_info": {
   "codemirror_mode": "r",
   "file_extension": ".r",
   "mimetype": "text/x-r-source",
   "name": "R",
   "pygments_lexer": "r",
   "version": "3.4.1"
  }
 },
 "nbformat": 4,
 "nbformat_minor": 2
}
